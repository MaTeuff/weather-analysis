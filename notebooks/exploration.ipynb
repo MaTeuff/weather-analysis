{
 "cells": [
  {
   "cell_type": "markdown",
   "metadata": {
    "collapsed": true,
    "pycharm": {
     "name": "#%% md\n"
    }
   },
   "source": [
    ".h2 Analyze weather data\n",
    "First load measurements from export"
   ]
  },
  {
   "cell_type": "code",
   "execution_count": 3,
   "metadata": {},
   "outputs": [
    {
     "ename": "ModuleNotFoundError",
     "evalue": "No module named 'pandas'",
     "output_type": "error",
     "traceback": [
      "\u001B[0;31m---------------------------------------------------------------------------\u001B[0m",
      "\u001B[0;31mModuleNotFoundError\u001B[0m                       Traceback (most recent call last)",
      "\u001B[0;32m<ipython-input-3-11ad74759cb2>\u001B[0m in \u001B[0;36m<module>\u001B[0;34m\u001B[0m\n\u001B[0;32m----> 1\u001B[0;31m \u001B[0;32mimport\u001B[0m \u001B[0mpandas\u001B[0m \u001B[0;32mas\u001B[0m \u001B[0mpd\u001B[0m\u001B[0;34m\u001B[0m\u001B[0;34m\u001B[0m\u001B[0m\n\u001B[0m\u001B[1;32m      2\u001B[0m \u001B[0;32mimport\u001B[0m \u001B[0mmatplotlib\u001B[0m\u001B[0;34m.\u001B[0m\u001B[0mpyplot\u001B[0m \u001B[0;32mas\u001B[0m \u001B[0mplt\u001B[0m\u001B[0;34m\u001B[0m\u001B[0;34m\u001B[0m\u001B[0m\n\u001B[1;32m      3\u001B[0m \u001B[0;32mimport\u001B[0m \u001B[0mnumpy\u001B[0m \u001B[0;32mas\u001B[0m \u001B[0mnp\u001B[0m\u001B[0;34m\u001B[0m\u001B[0;34m\u001B[0m\u001B[0m\n\u001B[1;32m      4\u001B[0m \u001B[0;32mimport\u001B[0m \u001B[0mscipy\u001B[0m\u001B[0;34m.\u001B[0m\u001B[0msignal\u001B[0m\u001B[0;34m\u001B[0m\u001B[0;34m\u001B[0m\u001B[0m\n\u001B[1;32m      5\u001B[0m \u001B[0;32mimport\u001B[0m \u001B[0mtorch\u001B[0m\u001B[0;34m\u001B[0m\u001B[0;34m\u001B[0m\u001B[0m\n",
      "\u001B[0;31mModuleNotFoundError\u001B[0m: No module named 'pandas'"
     ]
    }
   ],
   "source": [
    "import pandas as pd\n",
    "import matplotlib.pyplot as plt\n",
    "import numpy as np\n",
    "import scipy.signal\n",
    "import torch"
   ]
  },
  {
   "cell_type": "code",
   "execution_count": null,
   "metadata": {},
   "outputs": [],
   "source": [
    "raw_data = pd.read_csv(\"~/Desktop/produkt_klima_tag_18790101_20201231_04104.txt\", \"\\t\", skipinitialspace=True)\n",
    "raw_data = raw_data[18261:]\n",
    "raw_data[\"MESS_DATUM\"] = pd.to_datetime(raw_data[\"MESS_DATUM\"], format=\"%Y%m%d\")\n",
    "raw_data[\"DAY_OF_YEAR\"] = raw_data[\"MESS_DATUM\"].dt.day_of_year\n",
    "raw_data = raw_data.drop(labels=[\"STATIONS_ID\"], axis=1)\n",
    "raw_data = raw_data.drop(labels=[\"FX\"], axis=1) #  Windgeschwindigkeit\n",
    "raw_data = raw_data.drop(labels=[\"FM\"], axis=1) #  Windgeschwindigkeit\n",
    "\n",
    "rainfall = raw_data[\"RSK\"]\n",
    "sunhours = raw_data[\"SDK\"]"
   ]
  },
  {
   "cell_type": "code",
   "execution_count": null,
   "metadata": {
    "pycharm": {
     "name": "#%%\n"
    }
   },
   "outputs": [],
   "source": [
    "res = plt.hist(raw_data[\"RSK\"], 100, (0., 10.)), plt.ylim(0, 1000), plt.show()\n",
    "\n",
    "mean_rain = raw_data.groupby(\"DAY_OF_YEAR\")[\"RSK\"].mean()\n",
    "plt.plot(mean_rain), plt.plot(scipy.signal.convolve(mean_rain[:-1] / 15., np.ones(15))), plt.show()\n",
    "\n",
    "rainy_days = raw_data[raw_data[\"RSK\"] > 1.]\n",
    "some_rain = rainy_days.groupby(\"DAY_OF_YEAR\")[\"RSK\"].count() / 61.\n",
    "plt.plot(some_rain), plt.plot(scipy.signal.medfilt(some_rain[:-1], 15)), plt.show()\n",
    "plt.plot(some_rain), plt.plot(scipy.signal.convolve(some_rain[:-1] / 15., np.ones(15))), plt.show()\n",
    "\n",
    "sun_hours_median = raw_data.groupby(\"DAY_OF_YEAR\")[\"SDK\"].median()\n",
    "sun_hours_mean = raw_data.groupby(\"DAY_OF_YEAR\")[\"SDK\"].mean()\n",
    "plt.plot(sun_hours_mean), plt.plot(sun_hours_median), plt.show()\n",
    "plt.plot(sun_hours_median), plt.show()\n",
    "\n",
    "sunny_days = raw_data[raw_data[\"SDK\"] > 6]\n",
    "sunny_days_chance = sunny_days.groupby(\"DAY_OF_YEAR\")[\"SDK\"].count() / 61.\n",
    "plt.plot(sunny_days_chance), plt.show()\n",
    "\n",
    "\n",
    "plt.plot(some_rain), plt.plot(sunny_days_chance), plt.show()\n",
    "\n",
    "\n",
    "\n",
    "\n",
    "\n",
    "import torch\n",
    "\n",
    "dtype = torch.float\n",
    "device = torch.device(\"cpu\")\n",
    "\n",
    "\n",
    "def l1(y, y_pred, w):\n",
    "    return (w * (y_pred - y)).abs().pow(1.1).mean()\n",
    "\n",
    "\n",
    "def l1_d_reg(y_pred, x):\n",
    "    dif_y = y_pred[1:] - y_pred[:-1]\n",
    "    dif_x = x[1:] - x[:-1]\n",
    "    steigung = dif_y / dif_x\n",
    "    return steigung.abs().pow(1.1).mean()\n",
    "\n",
    "\n",
    "def l2_dd_reg(y_pred, x):\n",
    "    dif_y = y_pred[1:-1] - y_pred[2:] - y_pred[:-2]\n",
    "    dif_x = x[2:] - x[:-2]\n",
    "    steigung = dif_y / dif_x\n",
    "    return steigung.abs().pow(1.1).mean()\n",
    "\n",
    "\n",
    "def model(measurement, timestamp, weights, rs, lr, model=\"l1\", reg=\"l2_dd\"):\n",
    "    x = torch.tensor(timestamp, device=device, dtype=dtype)\n",
    "    y = torch.tensor(measurement, device=device, dtype=dtype)\n",
    "    w = torch.tensor(weights, device=device, dtype=dtype)\n",
    "\n",
    "    y_pred = torch.tensor(y, device=device, dtype=dtype, requires_grad=True)\n",
    "\n",
    "    history = []\n",
    "    for i in range(10001):\n",
    "        loss = l1(y, y_pred, w) + rs * l2_dd_reg(y_pred, x)\n",
    "        if i % 100 == 0:\n",
    "            print(i, loss.item())\n",
    "            history.append(loss.item())\n",
    "        loss.backward()\n",
    "        with torch.no_grad():\n",
    "            y_pred -= lr * y_pred.grad\n",
    "            y_pred.grad = None\n",
    "\n",
    "    return y_pred, history\n",
    "\n",
    "\n",
    "def model_2(measurement, timestamp, weights, rs, lr, model=\"l1\", reg=\"l2_dd\"):\n",
    "    x = torch.tensor(timestamp, device=device, dtype=dtype)\n",
    "    y = torch.tensor(measurement, device=device, dtype=dtype)\n",
    "    w = torch.tensor(weights, device=device, dtype=dtype)\n",
    "\n",
    "    y_pred = torch.tensor(y, device=device, dtype=dtype, requires_grad=True)\n",
    "\n",
    "    maeLoss = torch.nn.L1Loss()\n",
    "\n",
    "    d_y_l = (y_pred[0:-2] - y_pred[1:-1]) / (x[0:-2] - x[1:-1])\n",
    "    d_y_r = y_pred[1:-1] - y_pred[2:] / (x[1:-1] - x[2:])\n",
    "    dd_y = (d_y_l - d_y_r) / (0.5 * (x[0:-2] + x[1:-1]) - 0.5 * (x[1:-1] + x[2:]))\n",
    "\n",
    "    grad = ((w * (y_pred - y)).abs().pow(1.1).mean() + rs * dd_y.abs().pow(1.1).mean()).backward()\n",
    "\n",
    "    opt = torch.optim.RMSprop([y_pred], lr=lr)\n",
    "\n",
    "    for i in range(10001):\n",
    "        def closure():\n",
    "            opt.zero_grad()\n",
    "            output = y_pred\n",
    "            loss = l1(y, y_pred, w) + rs * l2_dd_reg(y_pred, x)\n",
    "            if i % 100 == 0:\n",
    "                print(i, loss.item())\n",
    "            loss.backward()\n",
    "            return loss\n",
    "\n",
    "        opt.step(closure)\n",
    "\n",
    "\n",
    "y_pred_final = y_pred.detach().numpy() * measurements_std + measurements_mean\n",
    "y_final = y.detach().numpy() * measurements_std + measurements_mean\n",
    "\n"
   ]
  },
  {
   "cell_type": "code",
   "execution_count": null,
   "metadata": {
    "pycharm": {
     "name": "#%%\n"
    }
   },
   "outputs": [],
   "source": [
    "import matplotlib.pyplot as plt\n",
    "import numpy as np\n",
    "from datetime import datetime\n",
    "\n",
    "data = np.asarray(data)\n",
    "# Data ß - some key\n",
    "plt.figure(), plt.plot(np.int32(data[:,0]))#%%\n",
    "# Data 1 - always 1\n",
    "plt.figure(), plt.plot(np.int32(data[:,1]))#%%\n",
    "# Data 2 - \"deleted\"\n",
    "data_deleted = np.int32(data[:,2])\n",
    "deleted_mask = (np.asarray(data_deleted, dtype=np.bool))\n",
    "plt.figure(), plt.plot(data_deleted)#%%\n",
    "# Data 3 - date\n",
    "plt.figure(), plt.plot(np.int32(data[:,3]))#%%\n",
    "timestamps = np.int64(data[:,3])\n",
    "measurementTime = []\n",
    "for timestamp in timestamps:\n",
    "    measurementTime.append(datetime.utcfromtimestamp(timestamp/1000).strftime('%Y-%m-%d %H:%M:%S'))\n",
    "# Data 4 - weight reading\n",
    "weightMeasurements = np.float64(data[:,4])\n",
    "plt.figure(), plt.plot(weightMeasurements)\n",
    "\n",
    "weightMeasurements_filtered = weightMeasurements[deleted_mask]\n",
    "weight_mean = weightMeasurements_filtered.mean()\n",
    "weight_std = weightMeasurements_filtered.std()\n",
    "weightMeasurements_filtered -= weight_mean\n",
    "weightMeasurements_filtered /= weight_std\n",
    "timestamps_filtered = timestamps[deleted_mask]\n",
    "timestamps_filtered -= timestamps_filtered[0]\n",
    "timestamps_filtered = np.asarray(timestamps_filtered, dtype=np.float32)\n",
    "timestamps_filtered /= np.float(timestamps_filtered[-1])\n",
    "\n",
    "weights = np.ones_like(timestamps_filtered)\n",
    "for i in range(len(weights)):\n",
    "    weights[i]=1./(np.sum(np.abs(timestamps_filtered-timestamps_filtered[i])<0.06))\n",
    "\n",
    "plt.figure(), plt.plot(timestamps_filtered, weightMeasurements_filtered)\n",
    "plt.figure(), plt.plot(timestamps_filtered, weights)"
   ]
  },
  {
   "cell_type": "code",
   "execution_count": null,
   "metadata": {
    "pycharm": {
     "name": "#%% Load data from csv\n"
    }
   },
   "outputs": [],
   "source": []
  },
  {
   "cell_type": "code",
   "execution_count": null,
   "metadata": {
    "pycharm": {
     "name": "#%%\n"
    }
   },
   "outputs": [],
   "source": [
    "import scipy.optimize\n",
    "\n",
    "import numpy as np\n",
    "\n",
    "def l2(y, y_mod, w):\n",
    "    return np.mean((y-y_mod)**2*w)\n",
    "\n",
    "def l1(y, y_mod, w):\n",
    "    return np.mean(np.abs(y-y_mod)**1.1*w)\n",
    "\n",
    "def l1_unequal(y, y_mod, w):\n",
    "    dif = y-y_mod\n",
    "    dif[dif<0] *= 5.\n",
    "    dif = np.abs(dif)**1.1\n",
    "    return np.mean(dif*w)\n",
    "\n",
    "def l2_reg(y_mod, x):\n",
    "    dif_y = y_mod[1:] - y_mod[:-1]\n",
    "    dif_x = x[1:] - x[:-1]\n",
    "    steigung = dif_y / dif_x\n",
    "    #print(steigung)\n",
    "    return np.mean(steigung**2)\n",
    "\n",
    "def l1_reg(y_mod, x):\n",
    "    dif_y = y_mod[1:] - y_mod[:-1]\n",
    "    dif_x = x[1:] - x[:-1]\n",
    "    steigung = dif_y / dif_x\n",
    "    #print(steigung)\n",
    "    return np.mean(np.abs(steigung)**1.1)\n",
    "\n",
    "def costfunction(y_mod, x, y, w, r):\n",
    "    return l1_unequal(y, y_mod, w) + r * l2_reg(y_mod, x)\n",
    "\n",
    "y_res = scipy.optimize.minimize(\n",
    "    costfunction,\n",
    "    weightMeasurements_filtered.copy(),\n",
    "    method='BFGS',\n",
    "    options={\n",
    "        'maxiter': 100000\n",
    "    },\n",
    "    args=(timestamps_filtered\n",
    "          , weightMeasurements_filtered, weights, 10**-2)\n",
    ")\n",
    "print(y_res.message)\n",
    "\n",
    "plt.figure(), plt.plot(timestamps_filtered, weightMeasurements_filtered*weight_std+weight_mean,'x'), plt.plot(timestamps_filtered, y_res.x*weight_std+weight_mean)"
   ]
  },
  {
   "cell_type": "code",
   "execution_count": null,
   "metadata": {
    "pycharm": {
     "name": "#%%\n"
    }
   },
   "outputs": [],
   "source": []
  },
  {
   "cell_type": "code",
   "execution_count": null,
   "metadata": {
    "pycharm": {
     "name": "#%%\n"
    }
   },
   "outputs": [],
   "source": []
  }
 ],
 "metadata": {
  "kernelspec": {
   "display_name": "Python 3",
   "language": "python",
   "name": "python3"
  }
 },
 "nbformat": 4,
 "nbformat_minor": 1
}